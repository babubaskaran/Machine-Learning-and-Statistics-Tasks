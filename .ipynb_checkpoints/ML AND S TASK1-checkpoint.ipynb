{
 "cells": [
  {
   "cell_type": "markdown",
   "metadata": {},
   "source": [
    "# Machine Learning and Statistics - Task 1"
   ]
  },
  {
   "cell_type": "markdown",
   "metadata": {},
   "source": [
    "These are my solution to the Task 1 Assessment The author\n",
    " is Babu Baskaran email : G00376292@gmit.ie\n",
    "****"
   ]
  },
  {
   "cell_type": "markdown",
   "metadata": {},
   "source": [
    "#### Task 1: Calculate Square Root of 2\n",
    "\n",
    "We can calculate the square root of two using Newton's method [1], [2],[3], [4],[5],[6]\n",
    "\n",
    "To find the square root 2, we can iterate using the following equation\n",
    "\n",
    "$$ z = z - \\frac{z^2 - x} {2z} $$\n",
    "\n",
    "\n",
    "\n",
    "\n",
    "[1] A Tour of Go; Exercise: Loops and Functions https://tour.golang.org/flowcontrol/8\n",
    "\n",
    "[2] Floating Point Limitations https://docs.python.org/3.4/tutorial/floatingpoint.html \n",
    "\n",
    "[3] How to use Python exponents with ** operator https://kodify.net/python/math/exponents/\n",
    "\n",
    "[4] Wikipedia,\"Different methods of Finding Square root of 2\"  https://en.wikipedia.org/wiki/Square_root_of_2\n",
    "\n",
    "[5] \"Finding square root of 2 with 100 decimal places\" https://stackoverflow.com/questions/8505385/finding-square-root-of-2-upto-more-than-100-decimal-places\n",
    "[6] Newton's Method to find Square Root https://en.wikipedia.org/wiki/Newton%27s_method\n"
   ]
  },
  {
   "cell_type": "code",
   "execution_count": 1,
   "metadata": {},
   "outputs": [
    {
     "data": {
      "text/plain": [
       "'1.4142135623746898698271934335934929549694061279296875000000000000000000000000000000000000000000000000'"
      ]
     },
     "execution_count": 1,
     "metadata": {},
     "output_type": "execute_result"
    }
   ],
   "source": [
    "def sqrt2(num):\n",
    "    \n",
    "    \n",
    "    \"\"\" A function to calculate the square root of number 2\n",
    "    \"\"\"\n",
    "    \n",
    "    # Intial value of the square root of z1\n",
    "    z1 = (num * 1.0) / 2\n",
    "    \n",
    "    # Inital value of the square root of z2\n",
    "    z2 = (z1 + (num / z1) / 2)\n",
    "    \n",
    "    # Loop for to run until the value of z1 - z2 is less than 0.00001\n",
    "    while abs(z1 - z2) > 0.00001:\n",
    "        \n",
    "        z1 = z2\n",
    "        \n",
    "        z2 = (z1 + (num / z1)) / 2\n",
    "  \n",
    "        # format given value with 100 decimal place\n",
    "        y = format(z2, ',.100f')\n",
    "        \n",
    "    # Return the square root of 2        \n",
    "    return y\n",
    "sqrt2(2)"
   ]
  },
  {
   "cell_type": "markdown",
   "metadata": {},
   "source": [
    "## Tests of the function\n",
    "\n",
    "We are testing the function with some known values"
   ]
  },
  {
   "cell_type": "code",
   "execution_count": 2,
   "metadata": {},
   "outputs": [
    {
     "data": {
      "text/plain": [
       "'5.0000000000000000000000000000000000000000000000000000000000000000000000000000000000000000000000000000'"
      ]
     },
     "execution_count": 2,
     "metadata": {},
     "output_type": "execute_result"
    }
   ],
   "source": [
    "# Test the function on 25\n",
    "sqrt2(25)"
   ]
  },
  {
   "cell_type": "code",
   "execution_count": 3,
   "metadata": {},
   "outputs": [
    {
     "data": {
      "text/plain": [
       "'1.4142135623746898698271934335934929549694061279296875000000000000000000000000000000000000000000000000'"
      ]
     },
     "execution_count": 3,
     "metadata": {},
     "output_type": "execute_result"
    }
   ],
   "source": [
    "# Test the function on 2.\n",
    "sqrt2(2)"
   ]
  },
  {
   "cell_type": "markdown",
   "metadata": {},
   "source": [
    "The floating value has limitation with decimal, due to the fact after I formatted the value into 100 decimal it gives zeros after 50th decimal."
   ]
  },
  {
   "cell_type": "code",
   "execution_count": 4,
   "metadata": {},
   "outputs": [
    {
     "data": {
      "text/plain": [
       "1.4142135623730951"
      ]
     },
     "execution_count": 4,
     "metadata": {},
     "output_type": "execute_result"
    }
   ],
   "source": [
    "import math\n",
    "math.sqrt(2)"
   ]
  },
  {
   "cell_type": "markdown",
   "metadata": {},
   "source": [
    "Since the float decimal limitations we are converting the float value into string and returning the results.\n",
    "\n"
   ]
  },
  {
   "cell_type": "code",
   "execution_count": 5,
   "metadata": {},
   "outputs": [
    {
     "data": {
      "text/plain": [
       "'1.4142135623730950488016887242096980785696718753769480731766797379907324784621070388503875343276415727'"
      ]
     },
     "execution_count": 5,
     "metadata": {},
     "output_type": "execute_result"
    }
   ],
   "source": [
    "def sqrtnew():\n",
    "     \n",
    "    \"\"\" A function to calculate the square root of number 2\n",
    "    \"\"\"\n",
    "    # Assign the value of num with 2\n",
    "    num = 2\n",
    "    \n",
    "    # Multiplying num by 100 and finding exponential(power) of that value \n",
    "\n",
    "    S = num * 100 ** 100\n",
    "    \n",
    "    # Finding Floor Division of S \n",
    "    new = S//2\n",
    "    \n",
    "    #Loop for to run until the value of S minus exponential of 2 is less than 0\n",
    "    while S - (new**2) < 0:\n",
    "        # assigning value of new plus Floor Division of S which is again floor divison of 2\n",
    "        new = (new + S//new)//2\n",
    "\n",
    "    # changing the float into string by doing this we are able to get the square root of 2 mutiplied by 100**100\n",
    "    new = (str(new))\n",
    "    \n",
    "    # Return square root of 2 by concatenating 2 string values\n",
    "    # Return zero will bring the 1 character of the result and return 1: will bring the rest of the result from position 1 till the end\n",
    "      \n",
    "    \n",
    "    return(new[0] + \".\" + new[1:])\n",
    "    \n",
    "sqrtnew()"
   ]
  },
  {
   "cell_type": "markdown",
   "metadata": {},
   "source": [
    "## Tests of the function\n",
    "\n",
    "We are testing the function(the number 2 is the value which is given already on the code) so its generate the answer for the same"
   ]
  },
  {
   "cell_type": "code",
   "execution_count": 6,
   "metadata": {},
   "outputs": [
    {
     "data": {
      "text/plain": [
       "'1.4142135623730950488016887242096980785696718753769480731766797379907324784621070388503875343276415727'"
      ]
     },
     "execution_count": 6,
     "metadata": {},
     "output_type": "execute_result"
    }
   ],
   "source": [
    "sqrtnew()"
   ]
  },
  {
   "cell_type": "code",
   "execution_count": 7,
   "metadata": {},
   "outputs": [
    {
     "data": {
      "text/plain": [
       "Decimal('1.4142135623730950488016887242096980785696718753769480731766797379907324784621070388503875343276415727')"
      ]
     },
     "execution_count": 7,
     "metadata": {},
     "output_type": "execute_result"
    }
   ],
   "source": [
    "# Using the library function following square root with 100 decimal places to match the above value square root of 2\n",
    "import decimal\n",
    "decimal.getcontext().prec=101\n",
    "decimal.Decimal(\"2\").sqrt()"
   ]
  },
  {
   "cell_type": "markdown",
   "metadata": {},
   "source": [
    "## Conclusion\n",
    "\n",
    "The result of the above can be compared against the approximation of $\\sqrt{2}$ value at \n",
    "https://apod.nasa.gov/htmltest/gifcity/sqrt2.1mil\n",
    "\n",
    "1.4142135623730950488016887242096980785696718753769480731766797379907324784621070388503875343276415727\n",
    "\n",
    "This task represent the problem with the certanity of the values of the decimal places and not able to produce the  way you expect.  The values has irrational numbers which cannot be saved into the momory of computer.  The python floating decimal limitation which restrict the decimal into 50."
   ]
  },
  {
   "cell_type": "markdown",
   "metadata": {},
   "source": [
    "# Machine Learning and Statistics - Task 2"
   ]
  },
  {
   "cell_type": "markdown",
   "metadata": {},
   "source": [
    "Task 2: Chi-squared test for independence\n",
    "\n",
    "[1],[2],[3],[4]\n",
    "\n",
    "Chi-Square Test for Independence https://stattrek.com/chi-square-test/independence.aspx\n",
    "\n",
    "Calculate Chi Square Statistic by Hand https://www.statisticssolutions.com/non-parametric-analysis-chi-square/\n",
    "\n",
    "Chi Square Statistic Video https://www.youtube.com/watch?v=LE3AIyY_cn8\n",
    "\n",
    "Chi Squared Test Wikipedia https://en.wikipedia.org/wiki/Chi-squared_test\n",
    "\n",
    "Chi Square test SciPy.org https://docs.scipy.org/doc/scipy/reference/generated/scipy.stats.chisquare.html\n",
    "\n",
    "Two-Way Tables and the Chi-Square Test http://www.stat.yale.edu/Courses/1997-98/101/chisq.htm\n",
    "\n",
    "Scipy.stats.chi2_contingency https://docs.scipy.org/doc/scipy/reference/generated/scipy.stats.chi2_contingency.html\n",
    "\n",
    "Contingency table (also known as a cross tabulation or crosstab) https://en.wikipedia.org/wiki/Contingency_table\n",
    "\n",
    "Chi-square statistic for hypothesis testing https://www.khanacademy.org/math/ap-statistics/chi-square-tests/chi-square-goodness-fit/v/chi-square-statistic?modal=1\n",
    "\n",
    "Statistics : Chi-suared test https://pythonhealthcare.org/2018/04/13/58-statistics-chi-squared-test/\n",
    "By using chi2_contingency we are able to find the Chi-squared value is 24.6 and the p value is 0.0004098425861096696\n",
    "\n",
    "\n",
    "\n",
    "\n"
   ]
  },
  {
   "cell_type": "markdown",
   "metadata": {},
   "source": [
    "$$ x^2 = \\sum_ \\frac{f(o) - f(e)} {f(e)} $$\n",
    "\n"
   ]
  },
  {
   "cell_type": "markdown",
   "metadata": {},
   "source": [
    "The sample data has 3 rows and 4 coloumns\n",
    "\n",
    "\n",
    "\n"
   ]
  },
  {
   "cell_type": "code",
   "execution_count": 1,
   "metadata": {},
   "outputs": [
    {
     "data": {
      "text/plain": [
       "Power_divergenceResult(statistic=2.0, pvalue=0.8491450360846096)"
      ]
     },
     "execution_count": 1,
     "metadata": {},
     "output_type": "execute_result"
    }
   ],
   "source": [
    "from scipy.stats import chisquare\n",
    "chisquare([16, 18, 16, 14, 12, 12])"
   ]
  },
  {
   "cell_type": "code",
   "execution_count": 2,
   "metadata": {},
   "outputs": [
    {
     "data": {
      "text/plain": [
       "Power_divergenceResult(statistic=3.5, pvalue=0.6233876277495822)"
      ]
     },
     "execution_count": 2,
     "metadata": {},
     "output_type": "execute_result"
    }
   ],
   "source": [
    "chisquare([16, 18, 16, 14, 12, 12], f_exp=[16, 16, 16, 16, 16, 8])"
   ]
  },
  {
   "cell_type": "code",
   "execution_count": 4,
   "metadata": {},
   "outputs": [
    {
     "data": {
      "text/plain": [
       "Power_divergenceResult(statistic=array([2.        , 6.66666667]), pvalue=array([0.84914504, 0.24663415]))"
      ]
     },
     "execution_count": 4,
     "metadata": {},
     "output_type": "execute_result"
    }
   ],
   "source": [
    "import numpy as np\n",
    "obs = np.array([[16, 18, 16, 14, 12, 12], [32, 24, 16, 28, 20, 24]]).T\n",
    "obs.shape\n",
    "\n",
    "chisquare(obs)"
   ]
  },
  {
   "cell_type": "code",
   "execution_count": 5,
   "metadata": {},
   "outputs": [
    {
     "data": {
      "text/plain": [
       "Power_divergenceResult(statistic=23.310344827586206, pvalue=0.01597569253412758)"
      ]
     },
     "execution_count": 5,
     "metadata": {},
     "output_type": "execute_result"
    }
   ],
   "source": [
    "#By setting axis=None, the test is applied to all data in the array, which is equivalent to applying the test to the flattened array.\n",
    "chisquare(obs, axis=None)\n",
    "\n",
    "\n",
    "chisquare(obs.ravel())"
   ]
  },
  {
   "cell_type": "markdown",
   "metadata": {},
   "source": [
    "We can use the same and change the array to our data"
   ]
  },
  {
   "cell_type": "code",
   "execution_count": 21,
   "metadata": {},
   "outputs": [
    {
     "data": {
      "text/plain": [
       "Power_divergenceResult(statistic=array([12.50143266, 18.56291391,  3.33333333]), pvalue=array([5.84876294e-03, 3.36606536e-04, 3.43030146e-01]))"
      ]
     },
     "execution_count": 21,
     "metadata": {},
     "output_type": "execute_result"
    }
   ],
   "source": [
    "SData = np.array([[90, 60, 104, 95], [30, 50, 51, 20], [30, 40, 45, 35]]).T\n",
    "SData.shape\n",
    "\n",
    "chisquare(SData)"
   ]
  },
  {
   "cell_type": "code",
   "execution_count": 28,
   "metadata": {},
   "outputs": [
    {
     "data": {
      "text/plain": [
       "(2.768858761678132, 0.25046668010954165, 2, array([[12., 12., 16.],\n",
       "        [18., 18., 24.]]))"
      ]
     },
     "execution_count": 28,
     "metadata": {},
     "output_type": "execute_result"
    }
   ],
   "source": [
    "# A two-way example (2x3)\n",
    "\n",
    "from scipy.stats import chi2_contingency\n",
    "obs = np.array([[10, 10, 20], [20, 20, 20]])\n",
    "chi2_contingency(obs)\n",
    "\n",
    "g, p, dof, expctd = chi2_contingency(obs, lambda_=\"log-likelihood\")\n",
    "g, p, dof, expctd"
   ]
  },
  {
   "cell_type": "code",
   "execution_count": 31,
   "metadata": {},
   "outputs": [
    {
     "data": {
      "text/plain": [
       "(8.829648779331881, 0.6376130295973088)"
      ]
     },
     "execution_count": 31,
     "metadata": {},
     "output_type": "execute_result"
    }
   ],
   "source": [
    "# A four-way example (2 x 2 x 2 x 2):\n",
    "\n",
    "# chi2 : float The test statistic\n",
    "# p : float The p-value of the test\n",
    "# dof : int Degrees of freedom\n",
    "# expected : ndarray, same shape as observed (The expected frequencies, based on the mariginal sums of the table)\n",
    "obs = np.array(\n",
    "    [[[[12, 17],\n",
    "       [11, 16]],\n",
    "      [[11, 12],\n",
    "       [15, 16]]],\n",
    "     [[[23, 15],\n",
    "       [30, 22]],\n",
    "      [[14, 17],\n",
    "       [15, 16]]]])\n",
    "chi2_contingency(obs)\n",
    "\n",
    "g, p, dof, expctd = chi2_contingency(obs, lambda_=\"log-likelihood\")\n",
    "g, p"
   ]
  },
  {
   "cell_type": "code",
   "execution_count": 8,
   "metadata": {},
   "outputs": [
    {
     "name": "stdout",
     "output_type": "stream",
     "text": [
      "Chi Square Value is: 24.6\n",
      "P value of the Data is: 0.0004\n",
      "The Expected Value of each rows:\n",
      "                   A      B       C      D\n",
      "White Collar  80.54  80.54  107.38  80.54\n",
      "Blue Collar   34.85  34.85   46.46  34.85\n",
      "No Collar     34.62  34.62   46.15  34.62\n",
      "Degree of Freedom is: 6\n"
     ]
    }
   ],
   "source": [
    "import numpy as np\n",
    "import pandas as pd\n",
    "import scipy.stats as stats\n",
    "\n",
    "cols = ['A', 'B', 'C', 'D']\n",
    "data = pd.DataFrame(columns=cols)\n",
    "\n",
    "data.loc['White Collar'] = [90, 60, 104, 95]\n",
    "data.loc['Blue Collar'] = [30, 50, 51, 20]\n",
    "data.loc['No collar'] = [30, 40, 45, 35]\n",
    "\n",
    "\n",
    "\n",
    "ChiS, pVal, dof, expected = stats.chi2_contingency(data) \n",
    "# add correction=False for uncorrected Chi-square\n",
    "\n",
    "\n",
    "print(\"Chi Square Value is:\", round(ChiS,1))\n",
    "print (\"P value of the Data is:\", round(pVal,4))\n",
    "print (\"The Expected Value of each rows:\\n\", (pd.DataFrame(expected,index = [\"White Collar\", \"Blue Collar\", \"No Collar\"], columns =[\"A\", \"B\", \"C\", \"D\"])).round(2))\n",
    "print(\"Degree of Freedom is:\",dof)"
   ]
  },
  {
   "cell_type": "markdown",
   "metadata": {},
   "source": [
    "## Conclusion\n",
    "The Value of Chi-squared is 24.6 is accurate and I have identified this by doing the same manually with the following 2 steps.\n",
    "\n",
    "1) Define Null and Alternative Hypotheses\n",
    "\n",
    "2) State Alph alpha = 0.05\n",
    "\n",
    "3) Calculate Degrees of Freedom\n",
    "\n",
    "df = (rows-1)(columns-2)\n",
    "df=(3-1)(4-1)\n",
    "df=(2)(3)=6\n",
    "\n",
    "4) State Decision Rule\n",
    "\n",
    "Using Chi Square Table we can get the value is 12.5916\n",
    "\n",
    "If ${\\chi}^2$ is greater than 12.5916, reject $h_o$\n",
    "\n",
    "5) Calculate Test Statistic\n",
    "\n",
    "\n",
    "\n",
    "$$f_e = \\frac{f_cf_r} {n}$$\n",
    "\n",
    "$$ {\\chi}^2=\\sum\\frac{f_o - f_e} {f_e} $$\n",
    "\n",
    "\n",
    "\n",
    "Using first the equation above I did the Chi Square value manually.\n",
    "\n",
    "i.e. White Collar and A 150 * 349 (150 is the total of A column and 349 is the total of White collar) divided by 650 (Total of all 4 columns) and I arrived 80.53 rounded into 81.\n",
    "\n",
    "I did the same for All the rows and and arrived the value.\n",
    "\n",
    "Using 2nd equation above I calcualted the chi square as follows\n",
    "\n",
    "White Collar and A column\n",
    "\n",
    "90 minus 81 and find square of the answer 9 * 9 = 81 divied by 81 = 1\n",
    "\n",
    "I did the same for all the rows and arrived value for each of them.\n",
    "\n",
    "Adding all these will give ${\\chi}^2$ which is 24.6 \n",
    "\n",
    "Using the Scipy.Stats I have generated the value of Chi Square and arrived 24.6 and its accuarate and I am able to arrive the same value by doing it manully by using the equation.  The p value is 0.0004.  Using the Chi Suare table and alpha value of 0.05 the value is 12.5916 and the result is greater than 12.5916 which proves the null hypothesis. "
   ]
  },
  {
   "cell_type": "markdown",
   "metadata": {},
   "source": [
    "# Machine Learning and Statistics - Task 3"
   ]
  },
  {
   "cell_type": "markdown",
   "metadata": {},
   "source": [
    "Task 3: The standard deviation of an array of numbers\n",
    "\n"
   ]
  },
  {
   "cell_type": "code",
   "execution_count": 3,
   "metadata": {},
   "outputs": [
    {
     "data": {
      "text/plain": [
       "array([0.5, 0.5])"
      ]
     },
     "execution_count": 3,
     "metadata": {},
     "output_type": "execute_result"
    }
   ],
   "source": [
    "a = np.array([[1, 2], [3, 4]])\n",
    "np.std(a)\n",
    "\n",
    "np.std(a, axis=0)\n",
    "\n",
    "np.std(a, axis=1)"
   ]
  },
  {
   "cell_type": "code",
   "execution_count": 5,
   "metadata": {},
   "outputs": [
    {
     "data": {
      "text/plain": [
       "0.4499999992549418"
      ]
     },
     "execution_count": 5,
     "metadata": {},
     "output_type": "execute_result"
    }
   ],
   "source": [
    "a = np.zeros((2, 512*512), dtype=np.float32)\n",
    "a[0, :] = 1.0\n",
    "a[1, :] = 0.1\n",
    "np.std(a)\n",
    "np.std(a, dtype=np.float64)"
   ]
  },
  {
   "attachments": {
    "image.png": {
     "image/png": "[encoded data removed]"
    }
   },
   "cell_type": "markdown",
   "metadata": {},
   "source": [
    "## Functions to calculate sample standard deviation in Excel\n",
    "To calculate standard deviation based on a sample.\n",
    "\n",
    "Excel STDEV function\n",
    "STDEV(number1,[number2],…) is the oldest Excel function to estimates standard deviation based on a sample.\n",
    "\n",
    "Logical values and text representations of numbers supplied directly in the list of arguments are counted. In arrays and references, only numbers are counted; empty cells, logical values of TRUE and FALSE, text and error values are ignored.\n",
    "\n",
    "Excel STDEV.S function\n",
    "STDEV.S(number1,[number2],…) is an improved version of STDEV.  Like STDEV, the STDEV.S function calculates the sample standard deviation of a set of values based on the classic sample standard deviation formula discussed in the previous section.\n",
    "\n",
    "#### Calcuating the standard divation of numbers:\n",
    "\n",
    "The Standard Deviation is a measure of how spread out numbers are. I made the following blood test reading and time with 2 columns and calculated the standard divation using STDEV.P and STDEV.S.  The result of this is shown at the bottom.\n",
    "\n",
    "![image.png](attachment:image.png)\n",
    "\n"
   ]
  },
  {
   "cell_type": "code",
   "execution_count": 13,
   "metadata": {},
   "outputs": [
    {
     "data": {
      "image/png": "[encoded data removed]",
      "text/plain": [
       "<Figure size 864x648 with 1 Axes>"
      ]
     },
     "metadata": {
      "needs_background": "light"
     },
     "output_type": "display_data"
    }
   ],
   "source": [
    "import pandas as pd\n",
    "%matplotlib inline\n",
    "import matplotlib.pyplot as plt\n",
    "import seaborn as sns\n",
    "# plt.style.use('seaboarn-whitegrid')\n",
    "plt.rcParams['figure.figsize'] = (12,9)\n",
    "\n",
    "mu,sigma,popsize = 50,15,1000\n",
    "pop = np.random.uniform(mu,sigma,popsize)\n",
    "fig = plt.hist(pop, bins=20)\n",
    "plt.title(\"Population\", fontsize=10)\n",
    "plt.show()"
   ]
  },
  {
   "cell_type": "code",
   "execution_count": null,
   "metadata": {},
   "outputs": [],
   "source": []
  }
 ],
 "metadata": {
  "kernelspec": {
   "display_name": "Python 3",
   "language": "python",
   "name": "python3"
  },
  "language_info": {
   "codemirror_mode": {
    "name": "ipython",
    "version": 3
   },
   "file_extension": ".py",
   "mimetype": "text/x-python",
   "name": "python",
   "nbconvert_exporter": "python",
   "pygments_lexer": "ipython3",
   "version": "3.7.1"
  }
 },
 "nbformat": 4,
 "nbformat_minor": 2
}
