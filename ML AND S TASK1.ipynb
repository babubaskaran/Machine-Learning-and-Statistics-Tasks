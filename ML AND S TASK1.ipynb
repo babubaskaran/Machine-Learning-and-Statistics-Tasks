{
 "cells": [
  {
   "cell_type": "markdown",
   "metadata": {},
   "source": [
    "# Machine Learning and Statistics - Task 1"
   ]
  },
  {
   "cell_type": "markdown",
   "metadata": {},
   "source": [
    "These are my solution to the Task 1 Assessment The author\n",
    " is Babu Baskaran\n",
    "****"
   ]
  },
  {
   "cell_type": "markdown",
   "metadata": {},
   "source": [
    "#### Task 1: Calculate Square Root of 2\n",
    "\n",
    "We can calculate the square root of two using Newton's method [1], [2],[3], [4],[5],[6]\n",
    "\n",
    "To find the square root 2, we can iterate using the following equation\n",
    "\n",
    "$$ z = z - \\frac{z^2 - x} {2z} $$\n",
    "\n",
    "\n",
    "\n",
    "\n",
    "[1] A Tour of Go; Exercise: Loops and Functions https://tour.golang.org/flowcontrol/8\n",
    "\n",
    "[2] Floating Point Limitations https://docs.python.org/3.4/tutorial/floatingpoint.html \n",
    "\n",
    "[3] How to use Python exponents with ** operator https://kodify.net/python/math/exponents/\n",
    "\n",
    "[4] Wikipedia,\"Different methods of Finding Square root of 2\"  https://en.wikipedia.org/wiki/Square_root_of_2\n",
    "\n",
    "[5] \"Finding square root of 2 with 100 decimal places\" https://stackoverflow.com/questions/8505385/finding-square-root-of-2-upto-more-than-100-decimal-places\n",
    "[6] Newton's Method to find Square Root https://en.wikipedia.org/wiki/Newton%27s_method\n"
   ]
  },
  {
   "cell_type": "code",
   "execution_count": 1,
   "metadata": {},
   "outputs": [
    {
     "data": {
      "text/plain": [
       "'1.4142135623746898698271934335934929549694061279296875000000000000000000000000000000000000000000000000'"
      ]
     },
     "execution_count": 1,
     "metadata": {},
     "output_type": "execute_result"
    }
   ],
   "source": [
    "def sqrt2(num):\n",
    "    \n",
    "    \n",
    "    \"\"\" A function to calculate the square root of number 2\n",
    "    \"\"\"\n",
    "    \n",
    "    # Intial value of the square root of z1\n",
    "    z1 = (num * 1.0) / 2\n",
    "    \n",
    "    # Inital value of the square root of z2\n",
    "    z2 = (z1 + (num / z1) / 2)\n",
    "    \n",
    "    # Loop for to run until the value of z1 - z2 is less than 0.00001\n",
    "    while abs(z1 - z2) > 0.00001:\n",
    "        \n",
    "        z1 = z2\n",
    "        \n",
    "        z2 = (z1 + (num / z1)) / 2\n",
    "  \n",
    "        # format given value with 100 decimal place\n",
    "        y = format(z2, ',.100f')\n",
    "        \n",
    "    # Return the square root of 2        \n",
    "    return y\n",
    "sqrt2(2)"
   ]
  },
  {
   "cell_type": "markdown",
   "metadata": {},
   "source": [
    "## Tests of the function\n",
    "\n",
    "We are testing the function with some known values"
   ]
  },
  {
   "cell_type": "code",
   "execution_count": 2,
   "metadata": {},
   "outputs": [
    {
     "data": {
      "text/plain": [
       "'5.0000000000000000000000000000000000000000000000000000000000000000000000000000000000000000000000000000'"
      ]
     },
     "execution_count": 2,
     "metadata": {},
     "output_type": "execute_result"
    }
   ],
   "source": [
    "# Test the function on 25\n",
    "sqrt2(25)"
   ]
  },
  {
   "cell_type": "code",
   "execution_count": 3,
   "metadata": {},
   "outputs": [
    {
     "data": {
      "text/plain": [
       "'1.4142135623746898698271934335934929549694061279296875000000000000000000000000000000000000000000000000'"
      ]
     },
     "execution_count": 3,
     "metadata": {},
     "output_type": "execute_result"
    }
   ],
   "source": [
    "# Test the function on 2.\n",
    "sqrt2(2)"
   ]
  },
  {
   "cell_type": "markdown",
   "metadata": {},
   "source": [
    "The floating value has limitation with decimal, due to the fact after I formatted the value into 100 decimal it gives zeros after 50th decimal."
   ]
  },
  {
   "cell_type": "code",
   "execution_count": 4,
   "metadata": {},
   "outputs": [
    {
     "data": {
      "text/plain": [
       "1.4142135623730951"
      ]
     },
     "execution_count": 4,
     "metadata": {},
     "output_type": "execute_result"
    }
   ],
   "source": [
    "import math\n",
    "math.sqrt(2)"
   ]
  },
  {
   "cell_type": "markdown",
   "metadata": {},
   "source": [
    "Since the float decimal limitations we are converting the float value into string and returning the results.\n",
    "\n"
   ]
  },
  {
   "cell_type": "code",
   "execution_count": 5,
   "metadata": {},
   "outputs": [
    {
     "data": {
      "text/plain": [
       "'1.4142135623730950488016887242096980785696718753769480731766797379907324784621070388503875343276415727'"
      ]
     },
     "execution_count": 5,
     "metadata": {},
     "output_type": "execute_result"
    }
   ],
   "source": [
    "def sqrtnew():\n",
    "     \n",
    "    \"\"\" A function to calculate the square root of number 2\n",
    "    \"\"\"\n",
    "    # Assign the value of num with 2\n",
    "    num = 2\n",
    "    \n",
    "    # Multiplying num by 100 and finding exponential(power) of that value \n",
    "\n",
    "    S = num * 100 ** 100\n",
    "    \n",
    "    # Finding Floor Division of S \n",
    "    new = S//2\n",
    "    \n",
    "    #Loop for to run until the value of S minus exponential of 2 is less than 0\n",
    "    while S - (new**2) < 0:\n",
    "        # assigning value of new plus Floor Division of S which is again floor divison of 2\n",
    "        new = (new + S//new)//2\n",
    "\n",
    "    # changing the float into string by doing this we are able to get the square root of 2 mutiplied by 100**100\n",
    "    new = (str(new))\n",
    "    \n",
    "    # Return square root of 2 by concatenating 2 string values\n",
    "    # Return zero will bring the 1 character of the result and return 1: will bring the rest of the result from position 1 till the end\n",
    "      \n",
    "    \n",
    "    return(new[0] + \".\" + new[1:])\n",
    "    \n",
    "sqrtnew()"
   ]
  },
  {
   "cell_type": "markdown",
   "metadata": {},
   "source": [
    "## Tests of the function\n",
    "\n",
    "We are testing the function(the number 2 is the value which is given already on the code) so its generate the answer for the same"
   ]
  },
  {
   "cell_type": "code",
   "execution_count": 6,
   "metadata": {},
   "outputs": [
    {
     "data": {
      "text/plain": [
       "'1.4142135623730950488016887242096980785696718753769480731766797379907324784621070388503875343276415727'"
      ]
     },
     "execution_count": 6,
     "metadata": {},
     "output_type": "execute_result"
    }
   ],
   "source": [
    "sqrtnew()"
   ]
  },
  {
   "cell_type": "code",
   "execution_count": 7,
   "metadata": {},
   "outputs": [
    {
     "data": {
      "text/plain": [
       "Decimal('1.4142135623730950488016887242096980785696718753769480731766797379907324784621070388503875343276415727')"
      ]
     },
     "execution_count": 7,
     "metadata": {},
     "output_type": "execute_result"
    }
   ],
   "source": [
    "import decimal\n",
    "decimal.getcontext().prec=101\n",
    "decimal.Decimal(\"2\").sqrt()"
   ]
  },
  {
   "cell_type": "markdown",
   "metadata": {},
   "source": [
    "# Machine Learning and Statistics - Task 2"
   ]
  },
  {
   "cell_type": "markdown",
   "metadata": {},
   "source": [
    "Task 2: Chi-squared test for independence\n",
    "\n",
    "[1],[2],[3],[4]\n",
    "\n",
    "Chi-Square Test for Independence https://stattrek.com/chi-square-test/independence.aspx\n",
    "Calculate Chi Square Statistic by Hand https://www.statisticssolutions.com/non-parametric-analysis-chi-square/\n",
    "Chi Square Statistic Video https://www.youtube.com/watch?v=LE3AIyY_cn8\n",
    "Chi Squared Test Wikipedia https://en.wikipedia.org/wiki/Chi-squared_test\n",
    "Chi Square test SciPy.org https://docs.scipy.org/doc/scipy/reference/generated/scipy.stats.chisquare.html\n",
    "\n",
    "Two-Way Tables and the Chi-Square Test http://www.stat.yale.edu/Courses/1997-98/101/chisq.htm\n",
    "\n",
    "Scipy.stats.chi2_contingency https://docs.scipy.org/doc/scipy/reference/generated/scipy.stats.chi2_contingency.html\n",
    "\n",
    "Contingency table (also known as a cross tabulation or crosstab) https://en.wikipedia.org/wiki/Contingency_table\n",
    "\n",
    "Chi-square statistic for hypothesis testing https://www.khanacademy.org/math/ap-statistics/chi-square-tests/chi-square-goodness-fit/v/chi-square-statistic?modal=1\n",
    "\n",
    "Statistics : Chi-suared test https://pythonhealthcare.org/2018/04/13/58-statistics-chi-squared-test/\n",
    "By using chi2_contingency we are able to find the Chi-squared value is 24.6 and the p value is 0.0004098425861096696\n",
    "\n",
    "\n",
    "\n",
    "\n"
   ]
  },
  {
   "cell_type": "markdown",
   "metadata": {},
   "source": [
    "$$ x^2 = \\sum_ \\frac{f(o) - f(e)} {f(e)} $$\n",
    "\n"
   ]
  },
  {
   "cell_type": "markdown",
   "metadata": {},
   "source": [
    "The sample data has 3 rows and 4 coloumns\n",
    "\n",
    "\n",
    "\n"
   ]
  },
  {
   "cell_type": "code",
   "execution_count": 1,
   "metadata": {},
   "outputs": [
    {
     "data": {
      "text/plain": [
       "Power_divergenceResult(statistic=2.0, pvalue=0.8491450360846096)"
      ]
     },
     "execution_count": 1,
     "metadata": {},
     "output_type": "execute_result"
    }
   ],
   "source": [
    "from scipy.stats import chisquare\n",
    "chisquare([16, 18, 16, 14, 12, 12])"
   ]
  },
  {
   "cell_type": "code",
   "execution_count": 2,
   "metadata": {},
   "outputs": [
    {
     "data": {
      "text/plain": [
       "Power_divergenceResult(statistic=3.5, pvalue=0.6233876277495822)"
      ]
     },
     "execution_count": 2,
     "metadata": {},
     "output_type": "execute_result"
    }
   ],
   "source": [
    "chisquare([16, 18, 16, 14, 12, 12], f_exp=[16, 16, 16, 16, 16, 8])"
   ]
  },
  {
   "cell_type": "code",
   "execution_count": 4,
   "metadata": {},
   "outputs": [
    {
     "data": {
      "text/plain": [
       "Power_divergenceResult(statistic=array([2.        , 6.66666667]), pvalue=array([0.84914504, 0.24663415]))"
      ]
     },
     "execution_count": 4,
     "metadata": {},
     "output_type": "execute_result"
    }
   ],
   "source": [
    "import numpy as np\n",
    "obs = np.array([[16, 18, 16, 14, 12, 12], [32, 24, 16, 28, 20, 24]]).T\n",
    "obs.shape\n",
    "\n",
    "chisquare(obs)"
   ]
  },
  {
   "cell_type": "code",
   "execution_count": 5,
   "metadata": {},
   "outputs": [
    {
     "data": {
      "text/plain": [
       "Power_divergenceResult(statistic=23.310344827586206, pvalue=0.01597569253412758)"
      ]
     },
     "execution_count": 5,
     "metadata": {},
     "output_type": "execute_result"
    }
   ],
   "source": [
    "#By setting axis=None, the test is applied to all data in the array, which is equivalent to applying the test to the flattened array.\n",
    "chisquare(obs, axis=None)\n",
    "\n",
    "\n",
    "chisquare(obs.ravel())"
   ]
  },
  {
   "cell_type": "markdown",
   "metadata": {},
   "source": [
    "We can use the same and change the array to our data"
   ]
  },
  {
   "cell_type": "code",
   "execution_count": 21,
   "metadata": {},
   "outputs": [
    {
     "data": {
      "text/plain": [
       "Power_divergenceResult(statistic=array([12.50143266, 18.56291391,  3.33333333]), pvalue=array([5.84876294e-03, 3.36606536e-04, 3.43030146e-01]))"
      ]
     },
     "execution_count": 21,
     "metadata": {},
     "output_type": "execute_result"
    }
   ],
   "source": [
    "SData = np.array([[90, 60, 104, 95], [30, 50, 51, 20], [30, 40, 45, 35]]).T\n",
    "SData.shape\n",
    "\n",
    "chisquare(SData)"
   ]
  },
  {
   "cell_type": "code",
   "execution_count": 28,
   "metadata": {},
   "outputs": [
    {
     "data": {
      "text/plain": [
       "(2.768858761678132, 0.25046668010954165, 2, array([[12., 12., 16.],\n",
       "        [18., 18., 24.]]))"
      ]
     },
     "execution_count": 28,
     "metadata": {},
     "output_type": "execute_result"
    }
   ],
   "source": [
    "# A two-way example (2x3)\n",
    "\n",
    "from scipy.stats import chi2_contingency\n",
    "obs = np.array([[10, 10, 20], [20, 20, 20]])\n",
    "chi2_contingency(obs)\n",
    "\n",
    "g, p, dof, expctd = chi2_contingency(obs, lambda_=\"log-likelihood\")\n",
    "g, p, dof, expctd"
   ]
  },
  {
   "cell_type": "code",
   "execution_count": 31,
   "metadata": {},
   "outputs": [
    {
     "data": {
      "text/plain": [
       "(8.829648779331881, 0.6376130295973088)"
      ]
     },
     "execution_count": 31,
     "metadata": {},
     "output_type": "execute_result"
    }
   ],
   "source": [
    "# A four-way example (2 x 2 x 2 x 2):\n",
    "\n",
    "# chi2 : float The test statistic\n",
    "# p : float The p-value of the test\n",
    "# dof : int Degrees of freedom\n",
    "# expected : ndarray, same shape as observed (The expected frequencies, based on the mariginal sums of the table)\n",
    "obs = np.array(\n",
    "    [[[[12, 17],\n",
    "       [11, 16]],\n",
    "      [[11, 12],\n",
    "       [15, 16]]],\n",
    "     [[[23, 15],\n",
    "       [30, 22]],\n",
    "      [[14, 17],\n",
    "       [15, 16]]]])\n",
    "chi2_contingency(obs)\n",
    "\n",
    "g, p, dof, expctd = chi2_contingency(obs, lambda_=\"log-likelihood\")\n",
    "g, p"
   ]
  },
  {
   "cell_type": "code",
   "execution_count": 2,
   "metadata": {},
   "outputs": [
    {
     "name": "stdout",
     "output_type": "stream",
     "text": [
      "               A   B    C   D\n",
      "White Collar  90  60  104  95\n",
      "Blue Collar   30  50   51  20\n",
      "No collar     30  40   45  35\n",
      "P value for effect of area on proportion of each collar:\n",
      "0.0004098425861096696\n",
      "\n",
      "Expected numbers if area did not effect proportion of each collar:\n",
      "[[ 80.53846154  80.53846154 107.38461538  80.53846154]\n",
      " [ 34.84615385  34.84615385  46.46153846  34.84615385]\n",
      " [ 34.61538462  34.61538462  46.15384615  34.61538462]]\n",
      "24.5712028585826\n",
      "6\n"
     ]
    }
   ],
   "source": [
    "import numpy as np\n",
    "import pandas as pd\n",
    "import scipy.stats as stats\n",
    "\n",
    "cols = ['A', 'B', 'C', 'D']\n",
    "data = pd.DataFrame(columns=cols)\n",
    "\n",
    "data.loc['White Collar'] = [90, 60, 104, 95]\n",
    "data.loc['Blue Collar'] = [30, 50, 51, 20]\n",
    "data.loc['No collar'] = [30, 40, 45, 35]\n",
    "\n",
    "print(data)\n",
    "\n",
    "V, p, dof, expected = stats.chi2_contingency(data) \n",
    "# add correction=False for uncorrected Chi-square\n",
    "\n",
    "print ('P value for effect of area on proportion of each collar:')\n",
    "print (p)\n",
    "print ('\\nExpected numbers if area did not effect proportion of each collar:')\n",
    "print (expected)\n",
    "print(V)\n",
    "print(dof)"
   ]
  },
  {
   "cell_type": "markdown",
   "metadata": {},
   "source": [
    "The Value of Chi-squared is 24.6 is accurate and I have identified this by doing the same manually with the following 2 formulas.\n",
    "\n",
    "1) Define Null and Alternative Hypotheses\n",
    "\n",
    "2) State Alph alpha = 0.05\n",
    "\n",
    "3) Calculate Degrees of Freedom\n",
    "\n",
    "df = (rows-1)(columns-2)\n",
    "df=(3-1)(4-1)\n",
    "df=(2)(3)=6\n",
    "\n",
    "4) State Decision Rule\n",
    "\n",
    "Using Chi Square Table we can get the value is 12.5916\n",
    "\n",
    "If $X^2$ is greater than 12.5916, reject Ho\n",
    "\n",
    "5) Calculate Test Statistic\n",
    "\n",
    "$$ x^2 = \\sum_ \\frac{f(o) - f(e)} {f(e)} $$\n",
    "\n",
    "fe = fcfr / n\n"
   ]
  },
  {
   "cell_type": "markdown",
   "metadata": {},
   "source": [
    "# Machine Learning and Statistics - Task 3"
   ]
  },
  {
   "cell_type": "markdown",
   "metadata": {},
   "source": [
    "Task 3: The standard deviation of an array of numbers\n",
    "\n"
   ]
  },
  {
   "cell_type": "code",
   "execution_count": 3,
   "metadata": {},
   "outputs": [
    {
     "data": {
      "text/plain": [
       "array([0.5, 0.5])"
      ]
     },
     "execution_count": 3,
     "metadata": {},
     "output_type": "execute_result"
    }
   ],
   "source": [
    "a = np.array([[1, 2], [3, 4]])\n",
    "np.std(a)\n",
    "\n",
    "np.std(a, axis=0)\n",
    "\n",
    "np.std(a, axis=1)"
   ]
  },
  {
   "cell_type": "code",
   "execution_count": 5,
   "metadata": {},
   "outputs": [
    {
     "data": {
      "text/plain": [
       "0.4499999992549418"
      ]
     },
     "execution_count": 5,
     "metadata": {},
     "output_type": "execute_result"
    }
   ],
   "source": [
    "a = np.zeros((2, 512*512), dtype=np.float32)\n",
    "a[0, :] = 1.0\n",
    "a[1, :] = 0.1\n",
    "np.std(a)\n",
    "np.std(a, dtype=np.float64)"
   ]
  },
  {
   "cell_type": "code",
   "execution_count": null,
   "metadata": {},
   "outputs": [],
   "source": []
  }
 ],
 "metadata": {
  "kernelspec": {
   "display_name": "Python 3",
   "language": "python",
   "name": "python3"
  },
  "language_info": {
   "codemirror_mode": {
    "name": "ipython",
    "version": 3
   },
   "file_extension": ".py",
   "mimetype": "text/x-python",
   "name": "python",
   "nbconvert_exporter": "python",
   "pygments_lexer": "ipython3",
   "version": "3.7.1"
  }
 },
 "nbformat": 4,
 "nbformat_minor": 2
}
