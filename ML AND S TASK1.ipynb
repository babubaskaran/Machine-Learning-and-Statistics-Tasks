{
 "cells": [
  {
   "cell_type": "markdown",
   "metadata": {},
   "source": [
    "# Machine Learning and Statistics - Task 1"
   ]
  },
  {
   "cell_type": "markdown",
   "metadata": {},
   "source": [
    "These are my solution to the Task 1 Assessment The author\n",
    " is Babu Baskaran\n",
    "****"
   ]
  },
  {
   "cell_type": "markdown",
   "metadata": {},
   "source": [
    "#### Task 1: Calculate Square Root of 2\n",
    "\n",
    "We can calculate the square root of two using Newton's method [1], [2],\n",
    "\n",
    "To find the square root 2, we can iterate using the following equation\n",
    "\n",
    "$$ z = z - \\frac{z^2 - x} {2z} $$\n",
    "\n",
    "$$ 2^2 $$\n",
    "\n",
    "\n",
    "[1] Floating Point Limitations https://docs.python.org/3.4/tutorial/floatingpoint.html \n",
    "[2] How to use Python exponents with ** operator https://kodify.net/python/math/exponents/\n",
    "\n",
    "\n",
    " "
   ]
  },
  {
   "cell_type": "code",
   "execution_count": 71,
   "metadata": {},
   "outputs": [],
   "source": [
    "def sqrt2(num):\n",
    "    \n",
    "    \n",
    "    \"\"\" A function to calculate the square root of number 2\n",
    "    \"\"\"\n",
    "    \n",
    "    # Intial value of the square root of z1\n",
    "    z1 = (num * 1.0) / 2\n",
    "    # Inital value of the square root of z2\n",
    "    z2 = (z1 + (num / z1) / 2)\n",
    "    \n",
    "    # Loop for to run until the value of z1 - z2 is less than 0.00001\n",
    "    while abs(z1 - z2) > 0.00001:\n",
    "        \n",
    "        #Calculate closest answer for the square root of 2\n",
    "        z1 = z2\n",
    "        z2 = (z1 + (num / z1)) / 2\n",
    "        \n",
    "        # format given value with 100 decimal place\n",
    "        y = format(z2, ',.100f')\n",
    "    # Return the square root of 2    \n",
    "    return y\n"
   ]
  },
  {
   "cell_type": "markdown",
   "metadata": {},
   "source": [
    "## Tests of the function\n",
    "\n",
    "We are testing the function with some known values"
   ]
  },
  {
   "cell_type": "code",
   "execution_count": 72,
   "metadata": {},
   "outputs": [
    {
     "data": {
      "text/plain": [
       "'5.0000000000000000000000000000000000000000000000000000000000000000000000000000000000000000000000000000'"
      ]
     },
     "execution_count": 72,
     "metadata": {},
     "output_type": "execute_result"
    }
   ],
   "source": [
    "# Test the function on 25\n",
    "sqrt2(25)"
   ]
  },
  {
   "cell_type": "code",
   "execution_count": 73,
   "metadata": {},
   "outputs": [
    {
     "data": {
      "text/plain": [
       "'1.4142135623746898698271934335934929549694061279296875000000000000000000000000000000000000000000000000'"
      ]
     },
     "execution_count": 73,
     "metadata": {},
     "output_type": "execute_result"
    }
   ],
   "source": [
    "# Test the function on 2.\n",
    "sqrt2(2)"
   ]
  },
  {
   "cell_type": "markdown",
   "metadata": {},
   "source": [
    "The floating value has limitation with decimal, due to the fact after I formatted the value into 100 decimal it gives zeros after 50th decimal."
   ]
  },
  {
   "cell_type": "code",
   "execution_count": 74,
   "metadata": {},
   "outputs": [
    {
     "data": {
      "text/plain": [
       "1.4142135623730951"
      ]
     },
     "execution_count": 74,
     "metadata": {},
     "output_type": "execute_result"
    }
   ],
   "source": [
    "import math\n",
    "math.sqrt(2)"
   ]
  },
  {
   "cell_type": "markdown",
   "metadata": {},
   "source": [
    "Since the float decimal limitations we are converting the float value into string and returning the results.\n",
    "\n"
   ]
  },
  {
   "cell_type": "code",
   "execution_count": 69,
   "metadata": {},
   "outputs": [
    {
     "data": {
      "text/plain": [
       "'1.4142135623730950488016887242096980785696718753769480731766797379907324784621070388503875343276415727'"
      ]
     },
     "execution_count": 69,
     "metadata": {},
     "output_type": "execute_result"
    }
   ],
   "source": [
    "def sqrtnew():\n",
    "     \n",
    "    \"\"\" A function to calculate the square root of number 2\n",
    "    \"\"\"\n",
    "    # Assign the value of num with 2\n",
    "    num = 2\n",
    "    \n",
    "    # Multiplying num by 100 and finding exponential(power) of that value\n",
    "    S = num * 100 ** 100\n",
    "    \n",
    "    # Finding Floor Division of S \n",
    "    new = S//2\n",
    "    \n",
    "    #Loop for to run until the value of S minus exponential of 2 is less than 0\n",
    "    while S - (new**2) < 0:\n",
    "        # assigning value of new plus Floor Division of S which is again floor divison of 2\n",
    "        new = (new + S//new)//2\n",
    "\n",
    "    # changing the float into string\n",
    "    new = (str(new))\n",
    "    \n",
    "    # Return square root of 2 by concatenating 2 string values\n",
    "    return(new[0] + \".\" + new[1:])\n",
    "\n",
    "sqrtnew()"
   ]
  },
  {
   "cell_type": "markdown",
   "metadata": {},
   "source": [
    "## Tests of the function\n",
    "\n",
    "We are testing the function(the number 2 is the value which is given already on the code) so its generate the answer for the same"
   ]
  },
  {
   "cell_type": "code",
   "execution_count": 75,
   "metadata": {},
   "outputs": [
    {
     "data": {
      "text/plain": [
       "'1.4142135623730950488016887242096980785696718753769480731766797379907324784621070388503875343276415727'"
      ]
     },
     "execution_count": 75,
     "metadata": {},
     "output_type": "execute_result"
    }
   ],
   "source": [
    "sqrtnew()"
   ]
  },
  {
   "cell_type": "code",
   "execution_count": 86,
   "metadata": {},
   "outputs": [
    {
     "data": {
      "text/plain": [
       "Decimal('1.4142135623730950488016887242096980785696718753769480731766797379907324784621070388503875343276415727')"
      ]
     },
     "execution_count": 86,
     "metadata": {},
     "output_type": "execute_result"
    }
   ],
   "source": [
    "import decimal\n",
    "decimal.getcontext().prec=101\n",
    "decimal.Decimal(\"2\").sqrt()"
   ]
  },
  {
   "cell_type": "code",
   "execution_count": null,
   "metadata": {},
   "outputs": [],
   "source": []
  }
 ],
 "metadata": {
  "kernelspec": {
   "display_name": "Python 3",
   "language": "python",
   "name": "python3"
  },
  "language_info": {
   "codemirror_mode": {
    "name": "ipython",
    "version": 3
   },
   "file_extension": ".py",
   "mimetype": "text/x-python",
   "name": "python",
   "nbconvert_exporter": "python",
   "pygments_lexer": "ipython3",
   "version": "3.7.1"
  }
 },
 "nbformat": 4,
 "nbformat_minor": 2
}
