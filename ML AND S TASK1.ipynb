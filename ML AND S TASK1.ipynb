{
 "cells": [
  {
   "cell_type": "markdown",
   "metadata": {},
   "source": [
    "# Machine Learning and Statistics - Task 1"
   ]
  },
  {
   "cell_type": "markdown",
   "metadata": {},
   "source": [
    "These are my solution to the Task 1 Assessment The author\n",
    "e is Babu Baskaran\n",
    "****"
   ]
  },
  {
   "cell_type": "markdown",
   "metadata": {},
   "source": [
    "#### Task 1: Calculate Square Root of 2\n",
    "\n",
    "We can calculate the square root of two using the following method [1]\n",
    "To find the square root 2, we can iterate using the following equation\n",
    "\n",
    "\n",
    "\n",
    "$$ 2^2 $$\n",
    "\n",
    "[1] "
   ]
  },
  {
   "cell_type": "code",
   "execution_count": 1,
   "metadata": {},
   "outputs": [],
   "source": [
    "def sqrt(two):\n",
    "    answer = two\n",
    "    precision = 10 ** (-10)\n",
    "    \n",
    "    \n",
    "    while abs(two - answer * answer) > precision:\n",
    "        answer = (answer + two/answer)/2\n",
    "    return answer"
   ]
  }
 ],
 "metadata": {
  "kernelspec": {
   "display_name": "Python 3",
   "language": "python",
   "name": "python3"
  },
  "language_info": {
   "codemirror_mode": {
    "name": "ipython",
    "version": 3
   },
   "file_extension": ".py",
   "mimetype": "text/x-python",
   "name": "python",
   "nbconvert_exporter": "python",
   "pygments_lexer": "ipython3",
   "version": "3.7.1"
  }
 },
 "nbformat": 4,
 "nbformat_minor": 2
}
